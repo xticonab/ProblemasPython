{
 "cells": [
  {
   "cell_type": "markdown",
   "metadata": {},
   "source": [
    "# PROBLEMAS DIVERSOS"
   ]
  },
  {
   "cell_type": "markdown",
   "metadata": {},
   "source": [
    "<h3>1.</h3>\n",
    "Realizar una función que permita la carga de n alumnos. Por cada alumno se deberá preguntar el nombre completo y permitir el ingreso de 3 notas. Las notas deben estar comprendidas entre 0 y 10. Devolver el listado de alumnos."
   ]
  },
  {
   "cell_type": "code",
   "execution_count": 1,
   "metadata": {},
   "outputs": [],
   "source": [
    "def ingresar_nota():\n",
    "    try:\n",
    "        nota = float(input('Introduce la nota(0 - 10): '))\n",
    "        \n",
    "        if nota >=0 and nota <= 10:\n",
    "            return nota\n",
    "        else:\n",
    "            print('nota fuera del rango')\n",
    "            ingresar_nota()\n",
    "    except:\n",
    "        print('Ha ocurrido un error, introduce bien la nota')\n",
    "        ingresar_nota()"
   ]
  },
  {
   "cell_type": "code",
   "execution_count": 2,
   "metadata": {},
   "outputs": [
    {
     "name": "stdout",
     "output_type": "stream",
     "text": [
      "\n"
     ]
    }
   ],
   "source": [
    "def listar_alumnos(cantidad_alumnos):\n",
    "    lista_alumnos = [] \n",
    "    for i in range(cantidad_alumnos):\n",
    "        alumno = {}\n",
    "        alumno['nombre'] = input('Ingrese el nombre del alumno {}: '.format(i+1))\n",
    "    \n",
    "        alumno['nota1'] = ingresar_nota()\n",
    "        alumno['nota2'] = ingresar_nota()\n",
    "        alumno['nota3'] = ingresar_nota()\n",
    "        lista_alumnos.append(alumno)\n",
    "        \n",
    "    return lista_alumnos\n",
    "print()"
   ]
  },
  {
   "cell_type": "code",
   "execution_count": 3,
   "metadata": {},
   "outputs": [
    {
     "name": "stdin",
     "output_type": "stream",
     "text": [
      "Cantidad de alumnos a ingresar:  2\n"
     ]
    },
    {
     "name": "stdout",
     "output_type": "stream",
     "text": [
      "2\n"
     ]
    }
   ],
   "source": [
    "n = int(input('Cantidad de alumnos a ingresar: '))\n",
    "print(n)\n"
   ]
  },
  {
   "cell_type": "code",
   "execution_count": 4,
   "metadata": {},
   "outputs": [
    {
     "name": "stdin",
     "output_type": "stream",
     "text": [
      "Ingrese el nombre del alumno 1:  Dante\n",
      "Introduce la nota(0 - 10):  5\n",
      "Introduce la nota(0 - 10):  6\n",
      "Introduce la nota(0 - 10):  7\n",
      "Ingrese el nombre del alumno 2:  Jose\n",
      "Introduce la nota(0 - 10):  8\n",
      "Introduce la nota(0 - 10):  9\n",
      "Introduce la nota(0 - 10):  4\n"
     ]
    },
    {
     "data": {
      "text/plain": [
       "[{'nombre': 'Dante', 'nota1': 5.0, 'nota2': 6.0, 'nota3': 7.0},\n",
       " {'nombre': 'Jose', 'nota1': 8.0, 'nota2': 9.0, 'nota3': 4.0}]"
      ]
     },
     "execution_count": 4,
     "metadata": {},
     "output_type": "execute_result"
    }
   ],
   "source": [
    "lista_alumnos = listar_alumnos(n)\n",
    "lista_alumnos"
   ]
  },
  {
   "cell_type": "markdown",
   "metadata": {},
   "source": [
    "### 2.\n",
    "Definir una función que dado un listado de alumnos evalúe cuántos aprobaron y cuántos desaprobaron, teniendo en cuenta que se aprueba con 4. La nota será el promedio de las 3 notas para cada alumno."
   ]
  },
  {
   "cell_type": "code",
   "execution_count": null,
   "metadata": {},
   "outputs": [],
   "source": [
    "def ingresar_nota():\n",
    "    try:\n",
    "        nota = float(input('Introduce la nota(0 - 10): '))\n",
    "        \n",
    "        if nota >= 4:\n",
    "            print('Nota aprobatoria')\n",
    "        else:\n",
    "            print('nota fuera del rango')\n",
    "            ingresar_nota()\n",
    "    except:\n",
    "        print('Ha ocurrido un error, introduce bien la nota')\n",
    "        ingresar_nota()"
   ]
  },
  {
   "cell_type": "code",
   "execution_count": 17,
   "metadata": {},
   "outputs": [
    {
     "name": "stdout",
     "output_type": "stream",
     "text": [
      "\n"
     ]
    }
   ],
   "source": [
    "def listar_alumnos(cantidad_alumnos):\n",
    "    lista_alumnos = [] \n",
    "    for i in range(cantidad_alumnos):\n",
    "        alumno = {}\n",
    "        alumno['nombre'] = input('Ingrese el nombre del alumno {}: '.format(i+1))\n",
    "    \n",
    "        alumno['nota1'] = ingresar_nota()\n",
    "        alumno['nota2'] = ingresar_nota()\n",
    "        alumno['nota3'] = ingresar_nota()\n",
    "        \n",
    "        suma = alumno['nota1'] + alumno['nota2'] + alumno['nota3']\n",
    "        promedio = suma / 3\n",
    "         \n",
    "        lista_alumnos.append(alumno)\n",
    "        \n",
    "    return lista_alumnos\n",
    " \n",
    "print()"
   ]
  },
  {
   "cell_type": "code",
   "execution_count": 13,
   "metadata": {},
   "outputs": [
    {
     "name": "stdin",
     "output_type": "stream",
     "text": [
      "Cantidad de alumnos a ingresar:  2\n"
     ]
    },
    {
     "name": "stdout",
     "output_type": "stream",
     "text": [
      "2\n"
     ]
    }
   ],
   "source": [
    "n = int(input('Cantidad de alumnos a ingresar: '))\n",
    "print(n)\n",
    "\n"
   ]
  },
  {
   "cell_type": "markdown",
   "metadata": {},
   "source": [
    "### 3.\n",
    "Informar el promedio de nota del curso total."
   ]
  },
  {
   "cell_type": "code",
   "execution_count": 12,
   "metadata": {},
   "outputs": [
    {
     "name": "stdin",
     "output_type": "stream",
     "text": [
      "Introduzca el numero de calicificaciones:  3\n"
     ]
    },
    {
     "name": "stdout",
     "output_type": "stream",
     "text": [
      "3\n"
     ]
    },
    {
     "ename": "TypeError",
     "evalue": "'str' object cannot be interpreted as an integer",
     "output_type": "error",
     "traceback": [
      "\u001b[1;31m---------------------------------------------------------------------------\u001b[0m",
      "\u001b[1;31mTypeError\u001b[0m                                 Traceback (most recent call last)",
      "\u001b[1;32m<ipython-input-12-f20dd6998ed0>\u001b[0m in \u001b[0;36m<module>\u001b[1;34m\u001b[0m\n\u001b[0;32m      5\u001b[0m \u001b[0mcalificaciones\u001b[0m \u001b[1;33m=\u001b[0m \u001b[1;33m[\u001b[0m\u001b[1;33m]\u001b[0m\u001b[1;33m\u001b[0m\u001b[1;33m\u001b[0m\u001b[0m\n\u001b[0;32m      6\u001b[0m \u001b[1;33m\u001b[0m\u001b[0m\n\u001b[1;32m----> 7\u001b[1;33m \u001b[1;32mfor\u001b[0m \u001b[0mi\u001b[0m \u001b[1;32min\u001b[0m \u001b[0mrange\u001b[0m\u001b[1;33m(\u001b[0m\u001b[1;36m0\u001b[0m\u001b[1;33m,\u001b[0m \u001b[0mnumero_calificaciones\u001b[0m\u001b[1;33m)\u001b[0m\u001b[1;33m:\u001b[0m\u001b[1;33m\u001b[0m\u001b[1;33m\u001b[0m\u001b[0m\n\u001b[0m\u001b[0;32m      8\u001b[0m     \u001b[0mcalificacion\u001b[0m \u001b[1;33m=\u001b[0m \u001b[0minput\u001b[0m\u001b[1;33m(\u001b[0m\u001b[1;34m'Dame calificacion'\u001b[0m \u001b[1;33m+\u001b[0m \u001b[0mstr\u001b[0m\u001b[1;33m(\u001b[0m\u001b[0mi\u001b[0m\u001b[1;33m)\u001b[0m \u001b[1;33m+\u001b[0m \u001b[1;34m':'\u001b[0m\u001b[1;33m)\u001b[0m\u001b[1;33m\u001b[0m\u001b[1;33m\u001b[0m\u001b[0m\n\u001b[0;32m      9\u001b[0m     \u001b[0mcalificaciones\u001b[0m\u001b[1;33m.\u001b[0m\u001b[0mappend\u001b[0m\u001b[1;33m(\u001b[0m\u001b[0mcalificacion\u001b[0m\u001b[1;33m)\u001b[0m\u001b[1;33m\u001b[0m\u001b[1;33m\u001b[0m\u001b[0m\n",
      "\u001b[1;31mTypeError\u001b[0m: 'str' object cannot be interpreted as an integer"
     ]
    }
   ],
   "source": [
    "numero_calificaciones = input('Introduzca el numero de calicificaciones: ')\n",
    "print(numero_calificaciones)\n",
    "\n",
    "suma = 0\n",
    "calificaciones = [] \n",
    "\n",
    "for i in range(0, numero_calificaciones):\n",
    "    calificacion = input('Dame calificacion' + str(i) + ':')\n",
    "    calificaciones.append(calificacion)\n",
    "    suma = suma + calificacion\n",
    "promedio = suma / numero_calificaciones\n",
    "\n",
    "for i in range(0, numero_calificaciones):\n",
    "    if calificaciones[i] >= 4:\n",
    "        print(str(calificaciones[i]) + 'calificacion aprobatoria')\n",
    "    else: \n",
    "        print(str(calificaciones[i]) + 'calificacion no aprobatoria')\n",
    "print(promedio)"
   ]
  },
  {
   "cell_type": "code",
   "execution_count": null,
   "metadata": {},
   "outputs": [],
   "source": []
  },
  {
   "cell_type": "markdown",
   "metadata": {},
   "source": [
    "### 4.\n",
    "Realizar una función que indique quién tuvo el promedio más alto y quién tuvo la nota promedio más baja."
   ]
  },
  {
   "cell_type": "code",
   "execution_count": null,
   "metadata": {},
   "outputs": [],
   "source": []
  },
  {
   "cell_type": "code",
   "execution_count": null,
   "metadata": {},
   "outputs": [],
   "source": []
  },
  {
   "cell_type": "code",
   "execution_count": null,
   "metadata": {},
   "outputs": [],
   "source": []
  },
  {
   "cell_type": "markdown",
   "metadata": {},
   "source": [
    "### 5.\n",
    "Realizar una función que permita buscar un alumno por nombre, siendo el nombre completo o parcial, y devuelva una lista con los n alumnos que concuerden con ese nombre junto con todos sus datos, incluido el promedio de sus notas."
   ]
  },
  {
   "cell_type": "code",
   "execution_count": null,
   "metadata": {},
   "outputs": [],
   "source": []
  }
 ],
 "metadata": {
  "kernelspec": {
   "display_name": "Python 3",
   "language": "python",
   "name": "python3"
  },
  "language_info": {
   "codemirror_mode": {
    "name": "ipython",
    "version": 3
   },
   "file_extension": ".py",
   "mimetype": "text/x-python",
   "name": "python",
   "nbconvert_exporter": "python",
   "pygments_lexer": "ipython3",
   "version": "3.8.5"
  }
 },
 "nbformat": 4,
 "nbformat_minor": 4
}
