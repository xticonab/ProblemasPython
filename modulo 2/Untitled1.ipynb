{
 "cells": [
  {
   "cell_type": "markdown",
   "metadata": {},
   "source": [
    "# PROBLEMAS DIVERSOS"
   ]
  },
  {
   "cell_type": "markdown",
   "metadata": {},
   "source": [
    "## 1.\n",
    "Realizar una función que permita la carga de n alumnos. Por cada alumno se deberá preguntar el nombre completo y permitir el ingreso de 3 notas. Las notas deben estar comprendidas entre 0 y 10. Devolver el listado de alumnos"
   ]
  },
  {
   "cell_type": "code",
   "execution_count": 1,
   "metadata": {},
   "outputs": [],
   "source": [
    "def ingresar_nota():\n",
    "    try:\n",
    "        nota = float(input('Introduce la nota(0 - 10): '))\n",
    "        \n",
    "        if nota >=0 and nota <= 10:\n",
    "            return nota\n",
    "        else:\n",
    "            print('nota fuera del rango')\n",
    "            ingresar_nota()\n",
    "    except:\n",
    "        print('Ha ocurrido un error, introduce bien la nota')\n",
    "        ingresar_nota()"
   ]
  },
  {
   "cell_type": "code",
   "execution_count": 2,
   "metadata": {},
   "outputs": [
    {
     "name": "stdout",
     "output_type": "stream",
     "text": [
      "\n"
     ]
    }
   ],
   "source": [
    "def listar_alumnos(cantidad_alumnos):\n",
    "    lista_alumnos = [] \n",
    "    for i in range(cantidad_alumnos):\n",
    "        alumno = {}\n",
    "        alumno['nombre'] = input('Ingrese el nombre del alumno {}: '.format(i+1))\n",
    "    \n",
    "        alumno['nota1'] = ingresar_nota()\n",
    "        alumno['nota2'] = ingresar_nota()\n",
    "        alumno['nota3'] = ingresar_nota()\n",
    "        lista_alumnos.append(alumno)\n",
    "        \n",
    "    return lista_alumnos\n",
    "print()"
   ]
  },
  {
   "cell_type": "code",
   "execution_count": 3,
   "metadata": {},
   "outputs": [
    {
     "name": "stdin",
     "output_type": "stream",
     "text": [
      "Cantidad de alumnos a ingresar:  2\n"
     ]
    },
    {
     "name": "stdout",
     "output_type": "stream",
     "text": [
      "2\n"
     ]
    }
   ],
   "source": [
    "n = int(input('Cantidad de alumnos a ingresar: '))\n",
    "print(n)\n"
   ]
  },
  {
   "cell_type": "code",
   "execution_count": 4,
   "metadata": {},
   "outputs": [
    {
     "name": "stdin",
     "output_type": "stream",
     "text": [
      "Ingrese el nombre del alumno 1:  Gonzalo\n",
      "Introduce la nota(0 - 10):  6\n",
      "Introduce la nota(0 - 10):  7\n",
      "Introduce la nota(0 - 10):  8\n",
      "Ingrese el nombre del alumno 2:  Jose\n",
      "Introduce la nota(0 - 10):  5\n",
      "Introduce la nota(0 - 10):  6\n",
      "Introduce la nota(0 - 10):  7\n"
     ]
    },
    {
     "data": {
      "text/plain": [
       "[{'nombre': 'Gonzalo', 'nota1': 6.0, 'nota2': 7.0, 'nota3': 8.0},\n",
       " {'nombre': 'Jose', 'nota1': 5.0, 'nota2': 6.0, 'nota3': 7.0}]"
      ]
     },
     "execution_count": 4,
     "metadata": {},
     "output_type": "execute_result"
    }
   ],
   "source": [
    "lista_alumnos = listar_alumnos(n)\n",
    "lista_alumnos"
   ]
  },
  {
   "cell_type": "markdown",
   "metadata": {},
   "source": [
    "## 2.\n",
    "Definir una función que dado un listado de alumnos evalúe cuántos aprobaron y cuántos desaprobaron, teniendo en cuenta que se aprueba con 4. La nota será el promedio de las 3 notas para cada alumno."
   ]
  },
  {
   "cell_type": "markdown",
   "metadata": {},
   "source": [
    "### 3.\n",
    "Informar el promedio de nota del curso total."
   ]
  },
  {
   "cell_type": "markdown",
   "metadata": {},
   "source": [
    "### 4.\n",
    "Realizar una función que indique quién tuvo el promedio más alto y quién tuvo la nota promedio más baja."
   ]
  },
  {
   "cell_type": "markdown",
   "metadata": {},
   "source": [
    "### 5.\n",
    "Realizar una función que permita buscar un alumno por nombre, siendo el nombre completo o parcial, y devuelva una lista con los n alumnos que concuerden con ese nombre junto con todos sus datos, incluido el promedio de sus notas."
   ]
  },
  {
   "cell_type": "code",
   "execution_count": null,
   "metadata": {},
   "outputs": [],
   "source": []
  }
 ],
 "metadata": {
  "kernelspec": {
   "display_name": "Python 3",
   "language": "python",
   "name": "python3"
  },
  "language_info": {
   "codemirror_mode": {
    "name": "ipython",
    "version": 3
   },
   "file_extension": ".py",
   "mimetype": "text/x-python",
   "name": "python",
   "nbconvert_exporter": "python",
   "pygments_lexer": "ipython3",
   "version": "3.8.5"
  }
 },
 "nbformat": 4,
 "nbformat_minor": 4
}
